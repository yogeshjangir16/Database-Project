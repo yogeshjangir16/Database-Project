{
  "nbformat": 4,
  "nbformat_minor": 0,
  "metadata": {
    "colab": {
      "provenance": []
    },
    "kernelspec": {
      "name": "python3",
      "display_name": "Python 3"
    },
    "language_info": {
      "name": "python"
    }
  },
  "cells": [
    {
      "cell_type": "markdown",
      "source": [
        "*   **Normalization**\n",
        "*   **Data Recovery**\n",
        "*   **Query Optimization**\n",
        "*   **Cascading**"
      ],
      "metadata": {
        "id": "ym9okCarh8cJ"
      }
    },
    {
      "cell_type": "code",
      "execution_count": null,
      "metadata": {
        "id": "_zdwYsCLOSTU"
      },
      "outputs": [],
      "source": [
        "import pandas as pd\n",
        "import time\n",
        "import os\n",
        "import shutil"
      ]
    },
    {
      "cell_type": "code",
      "source": [
        "admin = pd.read_csv('/content/admin.csv')\n",
        "author = pd.read_csv('/content/author.csv')\n",
        "book = pd.read_csv('/content/books.csv')\n",
        "category = pd.read_csv('/content/category.csv')\n",
        "issue_book = pd.read_csv('/content/issue_books.csv')\n",
        "user = pd.read_csv('/content/users.csv')"
      ],
      "metadata": {
        "id": "23LWpKFaOeNt"
      },
      "execution_count": null,
      "outputs": []
    },
    {
      "cell_type": "code",
      "source": [
        "print(admin)"
      ],
      "metadata": {
        "colab": {
          "base_uri": "https://localhost:8080/"
        },
        "id": "mD_Tys8wO7bq",
        "outputId": "86543593-7f30-468a-81d1-cc8bd6d60552"
      },
      "execution_count": null,
      "outputs": [
        {
          "output_type": "stream",
          "name": "stdout",
          "text": [
            "     name               email    password      mobile\n",
            "0  Admin1    admin1@gmail.com  adminpass1  1234567890\n",
            "1  Admin2    admin2@yahoo.com  adminpass2  2345678901\n",
            "2  Admin3  admin3@hotmail.com  adminpass3  3456789012\n",
            "3  Admin4    admin4@gmail.com  adminpass4  4567890123\n",
            "4  Admin5    admin5@yahoo.com  adminpass5  5678901234\n"
          ]
        }
      ]
    },
    {
      "cell_type": "code",
      "source": [
        "print(author)"
      ],
      "metadata": {
        "colab": {
          "base_uri": "https://localhost:8080/"
        },
        "id": "FIvD3bhTO8vu",
        "outputId": "b052197d-814a-4a8b-9f8c-89cd6f372477"
      },
      "execution_count": null,
      "outputs": [
        {
          "output_type": "stream",
          "name": "stdout",
          "text": [
            "    author_id author_name      mobile           address\n",
            "0        1001     Author1  7217761077             Noida\n",
            "1        1002     Author2  7217761177          Tanjavur\n",
            "2        1003     Author3  7217761277             Sikar\n",
            "3        1004     Author4  7217761377  Tiruvanantapuram\n",
            "4        1005     Author5  7217761477          Srinagar\n",
            "5        1006     Author6  7217761577         Tirupathi\n",
            "6        1007     Author7  7217761677             Noida\n",
            "7        1008     Author8  7217761777          Tanjavur\n",
            "8        1009     Author9  7217761877             Sikar\n",
            "9        1010    Author10  7217761977  Tiruvanantapuram\n",
            "10       1011    Author11  7042511984          Srinagar\n",
            "11       1012    Author12  7042521984         Tirupathi\n",
            "12       1013    Author13  7042531984             Noida\n",
            "13       1014    Author14  7042541984          Tanjavur\n",
            "14       1015    Author15  7042551984             Sikar\n",
            "15       1016    Author16  7042561984  Tiruvanantapuram\n",
            "16       1017    Author17  7042571984          Srinagar\n",
            "17       1018    Author18  7042581984         Tirupathi\n",
            "18       1019    Author19  7042591984             Noida\n",
            "19       1020    Author20  7042501984          Tanjavur\n"
          ]
        }
      ]
    },
    {
      "cell_type": "code",
      "source": [
        "print(book)"
      ],
      "metadata": {
        "colab": {
          "base_uri": "https://localhost:8080/"
        },
        "id": "ctMceMxLO_Y3",
        "outputId": "b8436932-849d-4eac-d388-c4ca18fc7b44"
      },
      "execution_count": null,
      "outputs": [
        {
          "output_type": "stream",
          "name": "stdout",
          "text": [
            "   book_name  author_id  category_id  book_no  book_price\n",
            "0      Book1       1001        10001   100001        1599\n",
            "1      Book2       1001        10006   100002        1250\n",
            "2      Book3       1002        10002   100003        2000\n",
            "3      Book4       1002        10007   100004        1875\n",
            "4      Book5       1003        10003   100005        2299\n",
            "5      Book6       1003        10004   100006        1425\n",
            "6      Book7       1004        10009   100007        1650\n",
            "7      Book8       1004        10009   100008        1099\n",
            "8      Book9       1005        10010   100009         975\n",
            "9     Book10       1005        10010   100010        2500\n",
            "10    Book11       1006        10008   100011        1399\n",
            "11    Book12       1006        10008   100012        1750\n",
            "12    Book13       1007        10005   100013        1999\n",
            "13    Book14       1007        10005   100014        1175\n",
            "14    Book15       1008        10001   100015        2150\n",
            "15    Book16       1008        10003   100016        1299\n",
            "16    Book17       1009        10003   100017        1525\n",
            "17    Book18       1009        10006   100018        1850\n",
            "18    Book19       1010        10010   100019        1499\n",
            "19    Book20       1010        10010   100020        1675\n",
            "20    Book21       1011        10001   100021        1325\n",
            "21    Book22       1011        10006   100022        1950\n",
            "22    Book23       1012        10002   100023        1299\n",
            "23    Book24       1012        10007   100024        1575\n",
            "24    Book25       1013        10003   100025        1499\n",
            "25    Book26       1013        10004   100026        1750\n",
            "26    Book27       1014        10009   100027        1999\n",
            "27    Book28       1014        10009   100028        1175\n",
            "28    Book29       1015        10002   100029        2150\n",
            "29    Book30       1015        10002   100030        1299\n",
            "30    Book31       1016        10008   100031        1525\n",
            "31    Book32       1016        10008   100032        1850\n",
            "32    Book33       1017        10005   100033        1399\n",
            "33    Book34       1017        10005   100034        1425\n",
            "34    Book35       1018        10004   100035        1099\n",
            "35    Book36       1018        10001   100036         975\n",
            "36    Book37       1019        10004   100037        2500\n",
            "37    Book38       1019        10006   100038        1399\n",
            "38    Book39       1020        10007   100039        1525\n",
            "39    Book40       1020        10007   100040        1675\n"
          ]
        }
      ]
    },
    {
      "cell_type": "code",
      "source": [
        "print(category)"
      ],
      "metadata": {
        "colab": {
          "base_uri": "https://localhost:8080/"
        },
        "id": "x2iIm5zHPBBx",
        "outputId": "5282158f-fbf0-4a99-b5fa-9732e08d4d96"
      },
      "execution_count": null,
      "outputs": [
        {
          "output_type": "stream",
          "name": "stdout",
          "text": [
            "    category_id     category_name\n",
            "0         10001           Physics\n",
            "1         10002         Chemistry\n",
            "2         10003       Mathematics\n",
            "3         10004               CSE\n",
            "4         10005        Electrical\n",
            "5         10006        Mechanical\n",
            "6         10007               Bio\n",
            "7         10008            Novels\n",
            "8         10009  Children Stories\n",
            "9         10010         Magazines\n",
            "10        10011       Mathematics\n"
          ]
        }
      ]
    },
    {
      "cell_type": "code",
      "source": [
        "print(issue_book)"
      ],
      "metadata": {
        "colab": {
          "base_uri": "https://localhost:8080/"
        },
        "id": "EbQ5gBbLPCgh",
        "outputId": "415010e0-857c-43eb-fd62-073925da5963"
      },
      "execution_count": null,
      "outputs": [
        {
          "output_type": "stream",
          "name": "stdout",
          "text": [
            "   sno  book_no book_name author_name  student_Id  status  issue_date  \\\n",
            "0    6   100003     Book3     Author2         107       1  2323-12-06   \n",
            "1    8   100001     Book1     Author1         101       1  2323-12-06   \n",
            "\n",
            "     due_date  \n",
            "0  2323-12-06  \n",
            "1  2323-12-06  \n"
          ]
        }
      ]
    },
    {
      "cell_type": "code",
      "source": [
        "print(user)"
      ],
      "metadata": {
        "colab": {
          "base_uri": "https://localhost:8080/"
        },
        "id": "ZFhlVeGOQjSv",
        "outputId": "65916f78-f61f-41d1-bfad-52b79e4e421b"
      },
      "execution_count": null,
      "outputs": [
        {
          "output_type": "stream",
          "name": "stdout",
          "text": [
            "    student_id             name               email     password      mobile  \\\n",
            "0          101     Rahul Sharma     rahul@yahoo.com  password123  9876543210   \n",
            "1          102      Priya Patel     priya@gmail.com    securepwd  8765432109   \n",
            "2          103       Amit Singh    amit@hotmail.com     pass1234  7654321098   \n",
            "3          104       Neha Gupta      neha@yahoo.com  password567  6543210987   \n",
            "4          105      Sneha Verma     sneha@gmail.com      test123  5432109876   \n",
            "5          106     Vikram Joshi  vikram@hotmail.com      pass456  4321098765   \n",
            "6          107     Kavita Singh    kavita@yahoo.com    kavita123  3210987654   \n",
            "7          108      Rajesh Iyer    rajesh@gmail.com       raj456  2109876543   \n",
            "8          109     Anjali Reddy  anjali@hotmail.com    anjali789  1098765432   \n",
            "9          110     Sanjay Kumar    sanjay@yahoo.com   sanjaypass  9876543210   \n",
            "10         111  Meera Choudhary     meera@gmail.com     meera456  8765432109   \n",
            "11         112     Harish Verma  harish@hotmail.com    hverma123  7654321098   \n",
            "12         113     Deepika Rana   deepika@yahoo.com   deepika789  6543210987   \n",
            "13         114     Arjun Kapoor     arjun@gmail.com    kapoor123  5432109876   \n",
            "14         115     Swati Sharma   swati@hotmail.com     swati456  4321098765   \n",
            "15         116     Rakesh Patel    rakesh@yahoo.com   rakeshpass  3210987654   \n",
            "16         117      Tanvi Singh     tanvi@gmail.com     tanvi123  2109876543   \n",
            "17         118      Kunal Mehta   kunal@hotmail.com     kunal789  1098765432   \n",
            "18         119      Ishaan Shah    ishaan@gmail.com   ishaanpass  9876543210   \n",
            "19         120      Pooja Gupta   pooja@hotmail.com     pooja456  8765432109   \n",
            "\n",
            "      address  \n",
            "0       Delhi  \n",
            "1       Noida  \n",
            "2      Mumbai  \n",
            "3     Chennai  \n",
            "4     Kolkata  \n",
            "5   Bangalore  \n",
            "6     Jodhpur  \n",
            "7       Delhi  \n",
            "8       Noida  \n",
            "9      Mumbai  \n",
            "10    Chennai  \n",
            "11    Kolkata  \n",
            "12  Bangalore  \n",
            "13    Jodhpur  \n",
            "14      Delhi  \n",
            "15      Noida  \n",
            "16     Mumbai  \n",
            "17    Chennai  \n",
            "18    Kolkata  \n",
            "19  Bangalore  \n"
          ]
        }
      ]
    },
    {
      "cell_type": "markdown",
      "source": [
        "# Relation"
      ],
      "metadata": {
        "id": "TR0hhMKXQnKv"
      }
    },
    {
      "cell_type": "code",
      "source": [
        "admin.columns = admin.columns.str.strip()\n",
        "author.columns = author.columns.str.strip()\n",
        "book.columns = book.columns.str.strip()\n",
        "category.columns = category.columns.str.strip()\n",
        "user.columns = user.columns.str.strip()\n",
        "issue_book.columns = issue_book.columns.str.strip()"
      ],
      "metadata": {
        "id": "raLO6Ad2Ql-f"
      },
      "execution_count": null,
      "outputs": []
    },
    {
      "cell_type": "code",
      "source": [
        "book_author_merge = book.merge(author, on='author_id', how='inner')\n",
        "book_cat_merge = book.merge(category, on='category_id', how='inner')\n",
        "book_issue_merge = book.merge(issue_book, on='book_no', how='inner')\n",
        "print(book_author_merge)"
      ],
      "metadata": {
        "colab": {
          "base_uri": "https://localhost:8080/"
        },
        "id": "i3w7QtXFQ7z7",
        "outputId": "8763f87c-991c-4f94-c7cc-fef5006da111"
      },
      "execution_count": null,
      "outputs": [
        {
          "output_type": "stream",
          "name": "stdout",
          "text": [
            "   book_name  author_id  category_id  book_no  book_price author_name  \\\n",
            "0      Book1       1001        10001   100001        1599     Author1   \n",
            "1      Book2       1001        10006   100002        1250     Author1   \n",
            "2      Book3       1002        10002   100003        2000     Author2   \n",
            "3      Book4       1002        10007   100004        1875     Author2   \n",
            "4      Book5       1003        10003   100005        2299     Author3   \n",
            "5      Book6       1003        10004   100006        1425     Author3   \n",
            "6      Book7       1004        10009   100007        1650     Author4   \n",
            "7      Book8       1004        10009   100008        1099     Author4   \n",
            "8      Book9       1005        10010   100009         975     Author5   \n",
            "9     Book10       1005        10010   100010        2500     Author5   \n",
            "10    Book11       1006        10008   100011        1399     Author6   \n",
            "11    Book12       1006        10008   100012        1750     Author6   \n",
            "12    Book13       1007        10005   100013        1999     Author7   \n",
            "13    Book14       1007        10005   100014        1175     Author7   \n",
            "14    Book15       1008        10001   100015        2150     Author8   \n",
            "15    Book16       1008        10003   100016        1299     Author8   \n",
            "16    Book17       1009        10003   100017        1525     Author9   \n",
            "17    Book18       1009        10006   100018        1850     Author9   \n",
            "18    Book19       1010        10010   100019        1499    Author10   \n",
            "19    Book20       1010        10010   100020        1675    Author10   \n",
            "20    Book21       1011        10001   100021        1325    Author11   \n",
            "21    Book22       1011        10006   100022        1950    Author11   \n",
            "22    Book23       1012        10002   100023        1299    Author12   \n",
            "23    Book24       1012        10007   100024        1575    Author12   \n",
            "24    Book25       1013        10003   100025        1499    Author13   \n",
            "25    Book26       1013        10004   100026        1750    Author13   \n",
            "26    Book27       1014        10009   100027        1999    Author14   \n",
            "27    Book28       1014        10009   100028        1175    Author14   \n",
            "28    Book29       1015        10002   100029        2150    Author15   \n",
            "29    Book30       1015        10002   100030        1299    Author15   \n",
            "30    Book31       1016        10008   100031        1525    Author16   \n",
            "31    Book32       1016        10008   100032        1850    Author16   \n",
            "32    Book33       1017        10005   100033        1399    Author17   \n",
            "33    Book34       1017        10005   100034        1425    Author17   \n",
            "34    Book35       1018        10004   100035        1099    Author18   \n",
            "35    Book36       1018        10001   100036         975    Author18   \n",
            "36    Book37       1019        10004   100037        2500    Author19   \n",
            "37    Book38       1019        10006   100038        1399    Author19   \n",
            "38    Book39       1020        10007   100039        1525    Author20   \n",
            "39    Book40       1020        10007   100040        1675    Author20   \n",
            "\n",
            "        mobile           address  \n",
            "0   7217761077             Noida  \n",
            "1   7217761077             Noida  \n",
            "2   7217761177          Tanjavur  \n",
            "3   7217761177          Tanjavur  \n",
            "4   7217761277             Sikar  \n",
            "5   7217761277             Sikar  \n",
            "6   7217761377  Tiruvanantapuram  \n",
            "7   7217761377  Tiruvanantapuram  \n",
            "8   7217761477          Srinagar  \n",
            "9   7217761477          Srinagar  \n",
            "10  7217761577         Tirupathi  \n",
            "11  7217761577         Tirupathi  \n",
            "12  7217761677             Noida  \n",
            "13  7217761677             Noida  \n",
            "14  7217761777          Tanjavur  \n",
            "15  7217761777          Tanjavur  \n",
            "16  7217761877             Sikar  \n",
            "17  7217761877             Sikar  \n",
            "18  7217761977  Tiruvanantapuram  \n",
            "19  7217761977  Tiruvanantapuram  \n",
            "20  7042511984          Srinagar  \n",
            "21  7042511984          Srinagar  \n",
            "22  7042521984         Tirupathi  \n",
            "23  7042521984         Tirupathi  \n",
            "24  7042531984             Noida  \n",
            "25  7042531984             Noida  \n",
            "26  7042541984          Tanjavur  \n",
            "27  7042541984          Tanjavur  \n",
            "28  7042551984             Sikar  \n",
            "29  7042551984             Sikar  \n",
            "30  7042561984  Tiruvanantapuram  \n",
            "31  7042561984  Tiruvanantapuram  \n",
            "32  7042571984          Srinagar  \n",
            "33  7042571984          Srinagar  \n",
            "34  7042581984         Tirupathi  \n",
            "35  7042581984         Tirupathi  \n",
            "36  7042591984             Noida  \n",
            "37  7042591984             Noida  \n",
            "38  7042501984          Tanjavur  \n",
            "39  7042501984          Tanjavur  \n"
          ]
        }
      ]
    },
    {
      "cell_type": "code",
      "source": [
        "print(book_cat_merge)"
      ],
      "metadata": {
        "colab": {
          "base_uri": "https://localhost:8080/"
        },
        "id": "LDCl2JuvSoGd",
        "outputId": "c2aec189-a021-4dcf-957c-a18bd2f92f35"
      },
      "execution_count": null,
      "outputs": [
        {
          "output_type": "stream",
          "name": "stdout",
          "text": [
            "   book_name  author_id  category_id  book_no  book_price     category_name\n",
            "0      Book1       1001        10001   100001        1599           Physics\n",
            "1     Book15       1008        10001   100015        2150           Physics\n",
            "2     Book21       1011        10001   100021        1325           Physics\n",
            "3     Book36       1018        10001   100036         975           Physics\n",
            "4      Book2       1001        10006   100002        1250        Mechanical\n",
            "5     Book18       1009        10006   100018        1850        Mechanical\n",
            "6     Book22       1011        10006   100022        1950        Mechanical\n",
            "7     Book38       1019        10006   100038        1399        Mechanical\n",
            "8      Book3       1002        10002   100003        2000         Chemistry\n",
            "9     Book23       1012        10002   100023        1299         Chemistry\n",
            "10    Book29       1015        10002   100029        2150         Chemistry\n",
            "11    Book30       1015        10002   100030        1299         Chemistry\n",
            "12     Book4       1002        10007   100004        1875               Bio\n",
            "13    Book24       1012        10007   100024        1575               Bio\n",
            "14    Book39       1020        10007   100039        1525               Bio\n",
            "15    Book40       1020        10007   100040        1675               Bio\n",
            "16     Book5       1003        10003   100005        2299       Mathematics\n",
            "17    Book16       1008        10003   100016        1299       Mathematics\n",
            "18    Book17       1009        10003   100017        1525       Mathematics\n",
            "19    Book25       1013        10003   100025        1499       Mathematics\n",
            "20     Book6       1003        10004   100006        1425               CSE\n",
            "21    Book26       1013        10004   100026        1750               CSE\n",
            "22    Book35       1018        10004   100035        1099               CSE\n",
            "23    Book37       1019        10004   100037        2500               CSE\n",
            "24     Book7       1004        10009   100007        1650  Children Stories\n",
            "25     Book8       1004        10009   100008        1099  Children Stories\n",
            "26    Book27       1014        10009   100027        1999  Children Stories\n",
            "27    Book28       1014        10009   100028        1175  Children Stories\n",
            "28     Book9       1005        10010   100009         975         Magazines\n",
            "29    Book10       1005        10010   100010        2500         Magazines\n",
            "30    Book19       1010        10010   100019        1499         Magazines\n",
            "31    Book20       1010        10010   100020        1675         Magazines\n",
            "32    Book11       1006        10008   100011        1399            Novels\n",
            "33    Book12       1006        10008   100012        1750            Novels\n",
            "34    Book31       1016        10008   100031        1525            Novels\n",
            "35    Book32       1016        10008   100032        1850            Novels\n",
            "36    Book13       1007        10005   100013        1999        Electrical\n",
            "37    Book14       1007        10005   100014        1175        Electrical\n",
            "38    Book33       1017        10005   100033        1399        Electrical\n",
            "39    Book34       1017        10005   100034        1425        Electrical\n"
          ]
        }
      ]
    },
    {
      "cell_type": "markdown",
      "source": [
        "## Query Optimization"
      ],
      "metadata": {
        "id": "jlV0decZSwl6"
      }
    },
    {
      "cell_type": "code",
      "source": [
        "# Find authors and book they have category is \"CSE\"\n",
        "merged_data1 = book_author_merge.merge(category,on='category_id', how='inner')\n",
        "print(merged_data1)"
      ],
      "metadata": {
        "colab": {
          "base_uri": "https://localhost:8080/"
        },
        "id": "UgqORQOtSzbD",
        "outputId": "fe60b5ea-cede-4593-8661-d60777a086bc"
      },
      "execution_count": null,
      "outputs": [
        {
          "output_type": "stream",
          "name": "stdout",
          "text": [
            "   book_name  author_id  category_id  book_no  book_price author_name  \\\n",
            "0      Book1       1001        10001   100001        1599     Author1   \n",
            "1     Book15       1008        10001   100015        2150     Author8   \n",
            "2     Book21       1011        10001   100021        1325    Author11   \n",
            "3     Book36       1018        10001   100036         975    Author18   \n",
            "4      Book2       1001        10006   100002        1250     Author1   \n",
            "5     Book18       1009        10006   100018        1850     Author9   \n",
            "6     Book22       1011        10006   100022        1950    Author11   \n",
            "7     Book38       1019        10006   100038        1399    Author19   \n",
            "8      Book3       1002        10002   100003        2000     Author2   \n",
            "9     Book23       1012        10002   100023        1299    Author12   \n",
            "10    Book29       1015        10002   100029        2150    Author15   \n",
            "11    Book30       1015        10002   100030        1299    Author15   \n",
            "12     Book4       1002        10007   100004        1875     Author2   \n",
            "13    Book24       1012        10007   100024        1575    Author12   \n",
            "14    Book39       1020        10007   100039        1525    Author20   \n",
            "15    Book40       1020        10007   100040        1675    Author20   \n",
            "16     Book5       1003        10003   100005        2299     Author3   \n",
            "17    Book16       1008        10003   100016        1299     Author8   \n",
            "18    Book17       1009        10003   100017        1525     Author9   \n",
            "19    Book25       1013        10003   100025        1499    Author13   \n",
            "20     Book6       1003        10004   100006        1425     Author3   \n",
            "21    Book26       1013        10004   100026        1750    Author13   \n",
            "22    Book35       1018        10004   100035        1099    Author18   \n",
            "23    Book37       1019        10004   100037        2500    Author19   \n",
            "24     Book7       1004        10009   100007        1650     Author4   \n",
            "25     Book8       1004        10009   100008        1099     Author4   \n",
            "26    Book27       1014        10009   100027        1999    Author14   \n",
            "27    Book28       1014        10009   100028        1175    Author14   \n",
            "28     Book9       1005        10010   100009         975     Author5   \n",
            "29    Book10       1005        10010   100010        2500     Author5   \n",
            "30    Book19       1010        10010   100019        1499    Author10   \n",
            "31    Book20       1010        10010   100020        1675    Author10   \n",
            "32    Book11       1006        10008   100011        1399     Author6   \n",
            "33    Book12       1006        10008   100012        1750     Author6   \n",
            "34    Book31       1016        10008   100031        1525    Author16   \n",
            "35    Book32       1016        10008   100032        1850    Author16   \n",
            "36    Book13       1007        10005   100013        1999     Author7   \n",
            "37    Book14       1007        10005   100014        1175     Author7   \n",
            "38    Book33       1017        10005   100033        1399    Author17   \n",
            "39    Book34       1017        10005   100034        1425    Author17   \n",
            "\n",
            "        mobile           address     category_name  \n",
            "0   7217761077             Noida           Physics  \n",
            "1   7217761777          Tanjavur           Physics  \n",
            "2   7042511984          Srinagar           Physics  \n",
            "3   7042581984         Tirupathi           Physics  \n",
            "4   7217761077             Noida        Mechanical  \n",
            "5   7217761877             Sikar        Mechanical  \n",
            "6   7042511984          Srinagar        Mechanical  \n",
            "7   7042591984             Noida        Mechanical  \n",
            "8   7217761177          Tanjavur         Chemistry  \n",
            "9   7042521984         Tirupathi         Chemistry  \n",
            "10  7042551984             Sikar         Chemistry  \n",
            "11  7042551984             Sikar         Chemistry  \n",
            "12  7217761177          Tanjavur               Bio  \n",
            "13  7042521984         Tirupathi               Bio  \n",
            "14  7042501984          Tanjavur               Bio  \n",
            "15  7042501984          Tanjavur               Bio  \n",
            "16  7217761277             Sikar       Mathematics  \n",
            "17  7217761777          Tanjavur       Mathematics  \n",
            "18  7217761877             Sikar       Mathematics  \n",
            "19  7042531984             Noida       Mathematics  \n",
            "20  7217761277             Sikar               CSE  \n",
            "21  7042531984             Noida               CSE  \n",
            "22  7042581984         Tirupathi               CSE  \n",
            "23  7042591984             Noida               CSE  \n",
            "24  7217761377  Tiruvanantapuram  Children Stories  \n",
            "25  7217761377  Tiruvanantapuram  Children Stories  \n",
            "26  7042541984          Tanjavur  Children Stories  \n",
            "27  7042541984          Tanjavur  Children Stories  \n",
            "28  7217761477          Srinagar         Magazines  \n",
            "29  7217761477          Srinagar         Magazines  \n",
            "30  7217761977  Tiruvanantapuram         Magazines  \n",
            "31  7217761977  Tiruvanantapuram         Magazines  \n",
            "32  7217761577         Tirupathi            Novels  \n",
            "33  7217761577         Tirupathi            Novels  \n",
            "34  7042561984  Tiruvanantapuram            Novels  \n",
            "35  7042561984  Tiruvanantapuram            Novels  \n",
            "36  7217761677             Noida        Electrical  \n",
            "37  7217761677             Noida        Electrical  \n",
            "38  7042571984          Srinagar        Electrical  \n",
            "39  7042571984          Srinagar        Electrical  \n"
          ]
        }
      ]
    },
    {
      "cell_type": "code",
      "source": [
        "cse_books_authors = merged_data1[merged_data1['category_name'] == 'CSE']\n",
        "print(cse_books_authors)"
      ],
      "metadata": {
        "colab": {
          "base_uri": "https://localhost:8080/"
        },
        "id": "pxuxcJviUm0X",
        "outputId": "d30644b1-4feb-4f13-a079-f17c395c6fda"
      },
      "execution_count": null,
      "outputs": [
        {
          "output_type": "stream",
          "name": "stdout",
          "text": [
            "   book_name  author_id  category_id  book_no  book_price author_name  \\\n",
            "20     Book6       1003        10004   100006        1425     Author3   \n",
            "21    Book26       1013        10004   100026        1750    Author13   \n",
            "22    Book35       1018        10004   100035        1099    Author18   \n",
            "23    Book37       1019        10004   100037        2500    Author19   \n",
            "\n",
            "        mobile    address category_name  \n",
            "20  7217761277      Sikar           CSE  \n",
            "21  7042531984      Noida           CSE  \n",
            "22  7042581984  Tirupathi           CSE  \n",
            "23  7042591984      Noida           CSE  \n"
          ]
        }
      ]
    },
    {
      "cell_type": "code",
      "source": [
        "%timeit -n 5 -r 2 merged_data = book_author_merge.merge(book_cat_merge, on='category_id', how='inner'); cse_books_authors = merged_data[merged_data['category_name'] == 'CSE']"
      ],
      "metadata": {
        "colab": {
          "base_uri": "https://localhost:8080/"
        },
        "id": "cvWouKrqVmeV",
        "outputId": "f58ee4f0-cf4e-4fe4-aac5-16a72766591c"
      },
      "execution_count": null,
      "outputs": [
        {
          "output_type": "stream",
          "name": "stdout",
          "text": [
            "5.62 ms ± 849 µs per loop (mean ± std. dev. of 2 runs, 5 loops each)\n"
          ]
        }
      ]
    },
    {
      "cell_type": "code",
      "source": [
        "cse_category_number = category.loc[category['category_name'] == 'CSE', 'category_id'].iloc[0]\n",
        "print(\"Category Number for 'CSE':\", cse_category_number)"
      ],
      "metadata": {
        "colab": {
          "base_uri": "https://localhost:8080/"
        },
        "id": "PLxMqHo6YTMC",
        "outputId": "e957b89d-9bd5-49fa-f3af-ae8981a25815"
      },
      "execution_count": null,
      "outputs": [
        {
          "output_type": "stream",
          "name": "stdout",
          "text": [
            "Category Number for 'CSE': 10004\n"
          ]
        }
      ]
    },
    {
      "cell_type": "code",
      "source": [
        "cse_books = book[book['category_id'] == cse_category_number]\n",
        "cse_authors = author[author['author_id'].isin(cse_books['author_id'])]\n",
        "print(cse_authors)"
      ],
      "metadata": {
        "colab": {
          "base_uri": "https://localhost:8080/"
        },
        "id": "alcA-5Z3WtZa",
        "outputId": "b577bc62-0398-44dc-f317-e803e2b12464"
      },
      "execution_count": null,
      "outputs": [
        {
          "output_type": "stream",
          "name": "stdout",
          "text": [
            "    author_id author_name      mobile    address\n",
            "2        1003     Author3  7217761277      Sikar\n",
            "12       1013    Author13  7042531984      Noida\n",
            "17       1018    Author18  7042581984  Tirupathi\n",
            "18       1019    Author19  7042591984      Noida\n"
          ]
        }
      ]
    },
    {
      "cell_type": "code",
      "source": [
        "def calculate_time():\n",
        "    cse_category_number = category.loc[category['category_name'] == 'CSE', 'category_id'].iloc[0]\n",
        "    cse_books = book[book['category_id'] == cse_category_number]\n",
        "    cse_authors = author[author['author_id'].isin(cse_books['author_id'])]\n",
        "%timeit -r 2 -n 1 calculate_time()"
      ],
      "metadata": {
        "colab": {
          "base_uri": "https://localhost:8080/"
        },
        "id": "TWurmCaWYu7a",
        "outputId": "3df1ebae-4b77-4893-acb3-9d69e37c51f8"
      },
      "execution_count": null,
      "outputs": [
        {
          "output_type": "stream",
          "name": "stdout",
          "text": [
            "8.32 ms ± 3.46 ms per loop (mean ± std. dev. of 2 runs, 1 loop each)\n"
          ]
        }
      ]
    },
    {
      "cell_type": "markdown",
      "source": [
        "we can see that the time required for by using join operation is 5.1ms while using subquery it's 12.5ms hence we have correctly optimized ."
      ],
      "metadata": {
        "id": "xnG1cgqWWsPh"
      }
    },
    {
      "cell_type": "markdown",
      "source": [
        "## **Recovery**"
      ],
      "metadata": {
        "id": "P_--t2nacEmF"
      }
    },
    {
      "cell_type": "code",
      "source": [
        "admin_path = '/content/admin.csv'\n",
        "author_path = '/content/author.csv'\n",
        "book_path = '/content/books.csv'\n",
        "category_path = '/content/category.csv'\n",
        "issue_book_path = '/content/issue_books.csv'\n",
        "user_path = '/content/users.csv'\n",
        "\n",
        "backup_directory = '/content/backup'\n",
        "os.makedirs(backup_directory, exist_ok=True)\n",
        "\n",
        "backup_admin_path = os.path.join(backup_directory, 'admin_backup.csv')\n",
        "backup_author_path = os.path.join(backup_directory, 'author_backup.csv')\n",
        "backup_book_path = os.path.join(backup_directory, 'books_backup.csv')\n",
        "backup_category_path = os.path.join(backup_directory, 'category_backup.csv')\n",
        "backup_issue_book_path = os.path.join(backup_directory, 'issue_books_backup.csv')\n",
        "backup_user_path = os.path.join(backup_directory, 'users_backup.csv')\n",
        "\n",
        "shutil.copy(admin_path, backup_admin_path)\n",
        "shutil.copy(author_path, backup_author_path)\n",
        "shutil.copy(book_path, backup_book_path)\n",
        "shutil.copy(category_path, backup_category_path)\n",
        "shutil.copy(issue_book_path, backup_issue_book_path)\n",
        "shutil.copy(user_path, backup_user_path)\n",
        "print(f\"Backup completed.Location: {backup_directory}\")"
      ],
      "metadata": {
        "id": "8H-NIgOqcIJw",
        "colab": {
          "base_uri": "https://localhost:8080/"
        },
        "outputId": "cfe0c230-5de1-433a-f0a6-28f8ca163717"
      },
      "execution_count": null,
      "outputs": [
        {
          "output_type": "stream",
          "name": "stdout",
          "text": [
            "Backup completed.Location: /content/backup\n"
          ]
        }
      ]
    },
    {
      "cell_type": "code",
      "source": [
        "print(admin)"
      ],
      "metadata": {
        "colab": {
          "base_uri": "https://localhost:8080/"
        },
        "id": "AjZPsc0NgC6X",
        "outputId": "a279b60d-b0a6-40de-efb2-1897717e1b09"
      },
      "execution_count": null,
      "outputs": [
        {
          "output_type": "stream",
          "name": "stdout",
          "text": [
            "     name               email    password      mobile\n",
            "0  Admin1    admin1@gmail.com  adminpass1  1234567890\n",
            "1  Admin2    admin2@yahoo.com  adminpass2  2345678901\n",
            "2  Admin3  admin3@hotmail.com  adminpass3  3456789012\n",
            "3  Admin4    admin4@gmail.com  adminpass4  4567890123\n",
            "4  Admin5    admin5@yahoo.com  adminpass5  5678901234\n"
          ]
        }
      ]
    },
    {
      "cell_type": "code",
      "source": [
        "admin_backup = pd.read_csv('/content/backup/admin_backup.csv')\n",
        "print(admin_backup)"
      ],
      "metadata": {
        "colab": {
          "base_uri": "https://localhost:8080/"
        },
        "id": "yfmE6nqRgGTj",
        "outputId": "03d71812-46e8-4ae9-a21c-5225cfd5f2ef"
      },
      "execution_count": null,
      "outputs": [
        {
          "output_type": "stream",
          "name": "stdout",
          "text": [
            "     name               email    password      mobile\n",
            "0  Admin1    admin1@gmail.com  adminpass1  1234567890\n",
            "1  Admin2    admin2@yahoo.com  adminpass2  2345678901\n",
            "2  Admin3  admin3@hotmail.com  adminpass3  3456789012\n",
            "3  Admin4    admin4@gmail.com  adminpass4  4567890123\n",
            "4  Admin5    admin5@yahoo.com  adminpass5  5678901234\n"
          ]
        }
      ]
    },
    {
      "cell_type": "markdown",
      "source": [
        "As we can see that Recovery Successfully happed."
      ],
      "metadata": {
        "id": "6_yriNkDgU34"
      }
    },
    {
      "cell_type": "markdown",
      "source": [
        "# Materlization View"
      ],
      "metadata": {
        "id": "W4tWtzRzg6FJ"
      }
    },
    {
      "cell_type": "code",
      "source": [
        "view = book_cat_merge[book_cat_merge['category_name'] == 'CSE']\n",
        "print(view.head())"
      ],
      "metadata": {
        "colab": {
          "base_uri": "https://localhost:8080/"
        },
        "id": "4ubJeqzygbjw",
        "outputId": "22a6a5c6-ccdf-411b-e7d7-590c70648c61"
      },
      "execution_count": null,
      "outputs": [
        {
          "output_type": "stream",
          "name": "stdout",
          "text": [
            "   book_name  author_id  category_id  book_no  book_price category_name\n",
            "20     Book6       1003        10004   100006        1425           CSE\n",
            "21    Book26       1013        10004   100026        1750           CSE\n",
            "22    Book35       1018        10004   100035        1099           CSE\n",
            "23    Book37       1019        10004   100037        2500           CSE\n"
          ]
        }
      ]
    },
    {
      "cell_type": "code",
      "source": [
        "view = book_cat_merge[book_cat_merge['category_name'] == 'Bio']\n",
        "print(view.head())"
      ],
      "metadata": {
        "colab": {
          "base_uri": "https://localhost:8080/"
        },
        "id": "bDbBOSD_kHc3",
        "outputId": "927eb7cf-9a4c-4fda-b28b-b29015d21c8e"
      },
      "execution_count": null,
      "outputs": [
        {
          "output_type": "stream",
          "name": "stdout",
          "text": [
            "   book_name  author_id  category_id  book_no  book_price category_name\n",
            "12     Book4       1002        10007   100004        1875           Bio\n",
            "13    Book24       1012        10007   100024        1575           Bio\n",
            "14    Book39       1020        10007   100039        1525           Bio\n",
            "15    Book40       1020        10007   100040        1675           Bio\n"
          ]
        }
      ]
    },
    {
      "cell_type": "code",
      "source": [
        "view = book_author_merge[book_author_merge['author_name'] == 'Author2']\n",
        "print(view.head())"
      ],
      "metadata": {
        "colab": {
          "base_uri": "https://localhost:8080/"
        },
        "id": "oLH3Uo1nkZla",
        "outputId": "f45f12cc-7775-4508-cbd9-d160ce3289e4"
      },
      "execution_count": null,
      "outputs": [
        {
          "output_type": "stream",
          "name": "stdout",
          "text": [
            "  book_name  author_id  category_id  book_no  book_price author_name  \\\n",
            "2     Book3       1002        10002   100003        2000     Author2   \n",
            "3     Book4       1002        10007   100004        1875     Author2   \n",
            "\n",
            "       mobile   address  \n",
            "2  7217761177  Tanjavur  \n",
            "3  7217761177  Tanjavur  \n"
          ]
        }
      ]
    },
    {
      "cell_type": "markdown",
      "source": [
        "# **Data Optimization**"
      ],
      "metadata": {
        "id": "j73q8T5Elpvm"
      }
    },
    {
      "cell_type": "code",
      "source": [
        "optimal_data = merged_data.copy()\n",
        "print(optimal_data.info())"
      ],
      "metadata": {
        "colab": {
          "base_uri": "https://localhost:8080/"
        },
        "id": "Ku4CfjoMnxBj",
        "outputId": "704a1d16-67dc-48e1-bf60-257323debfca"
      },
      "execution_count": null,
      "outputs": [
        {
          "output_type": "stream",
          "name": "stdout",
          "text": [
            "<class 'pandas.core.frame.DataFrame'>\n",
            "Int64Index: 160 entries, 0 to 159\n",
            "Data columns (total 13 columns):\n",
            " #   Column         Non-Null Count  Dtype \n",
            "---  ------         --------------  ----- \n",
            " 0   book_name_x    160 non-null    object\n",
            " 1   author_id_x    160 non-null    int64 \n",
            " 2   category_id    160 non-null    int64 \n",
            " 3   book_no_x      160 non-null    int64 \n",
            " 4   book_price_x   160 non-null    int64 \n",
            " 5   author_name    160 non-null    object\n",
            " 6   mobile         160 non-null    int64 \n",
            " 7   address        160 non-null    object\n",
            " 8   book_name_y    160 non-null    object\n",
            " 9   author_id_y    160 non-null    int64 \n",
            " 10  book_no_y      160 non-null    int64 \n",
            " 11  book_price_y   160 non-null    int64 \n",
            " 12  category_name  160 non-null    object\n",
            "dtypes: int64(8), object(5)\n",
            "memory usage: 17.5+ KB\n",
            "None\n"
          ]
        }
      ]
    },
    {
      "cell_type": "markdown",
      "source": [
        "Memory Usage: 3.1KB"
      ],
      "metadata": {
        "id": "ImzLpFJDo4rr"
      }
    },
    {
      "cell_type": "code",
      "source": [
        "optimal_data.rename(columns={\n",
        "    'book_name_x': 'book_name',\n",
        "    'author_id_x': 'author_id',\n",
        "    'category_id': 'category_id',\n",
        "    'book_no_x': 'book_no',\n",
        "    'book_price_x': 'book_price',\n",
        "    'author_name': 'author_name',\n",
        "    'mobile': 'mobile',\n",
        "    'address': 'address',\n",
        "    'book_name_y': 'related_book_name',\n",
        "    'author_id_y': 'related_author_id',\n",
        "    'book_no_y': 'related_book_no',\n",
        "    'book_price_y': 'related_book_price',\n",
        "    'category_name': 'related_category_name'\n",
        "}, inplace=True)\n",
        "optimal_data = optimal_data.loc[:, ~optimal_data.columns.duplicated()]\n",
        "categorical_columns = ['book_name', 'author_name', 'address', 'related_book_name', 'related_category_name']\n",
        "for column in categorical_columns:\n",
        "    optimal_data[column] = optimal_data[column].astype('category')\n",
        "int_columns = ['author_id', 'category_id', 'book_no', 'book_price', 'mobile', 'related_author_id', 'related_book_no', 'related_book_price']\n",
        "optimal_data[int_columns] = optimal_data[int_columns].apply(pd.to_numeric, downcast='integer')\n",
        "print(optimal_data.info())\n"
      ],
      "metadata": {
        "colab": {
          "base_uri": "https://localhost:8080/"
        },
        "id": "58uUd2zdo8bJ",
        "outputId": "dc41a652-2c4a-4310-8cb5-4623645f4dfe"
      },
      "execution_count": null,
      "outputs": [
        {
          "output_type": "stream",
          "name": "stdout",
          "text": [
            "<class 'pandas.core.frame.DataFrame'>\n",
            "Int64Index: 160 entries, 0 to 159\n",
            "Data columns (total 13 columns):\n",
            " #   Column                 Non-Null Count  Dtype   \n",
            "---  ------                 --------------  -----   \n",
            " 0   book_name              160 non-null    category\n",
            " 1   author_id              160 non-null    int16   \n",
            " 2   category_id            160 non-null    int16   \n",
            " 3   book_no                160 non-null    int32   \n",
            " 4   book_price             160 non-null    int16   \n",
            " 5   author_name            160 non-null    category\n",
            " 6   mobile                 160 non-null    int64   \n",
            " 7   address                160 non-null    category\n",
            " 8   related_book_name      160 non-null    category\n",
            " 9   related_author_id      160 non-null    int16   \n",
            " 10  related_book_no        160 non-null    int32   \n",
            " 11  related_book_price     160 non-null    int16   \n",
            " 12  related_category_name  160 non-null    category\n",
            "dtypes: category(5), int16(5), int32(2), int64(1)\n",
            "memory usage: 10.1 KB\n",
            "None\n"
          ]
        }
      ]
    },
    {
      "cell_type": "markdown",
      "source": [
        "# **Sharding**"
      ],
      "metadata": {
        "id": "Pv1zv4Gow9Vg"
      }
    },
    {
      "cell_type": "code",
      "source": [
        "shard1_range = merged_data1[merged_data1['category_id'] <= 10005]\n",
        "shard2_range = merged_data1[(merged_data1['category_id'] > 10005) & (merged_data1['category_id'] <= 10007)]"
      ],
      "metadata": {
        "id": "MV9A9WU6pBWk"
      },
      "execution_count": null,
      "outputs": []
    },
    {
      "cell_type": "code",
      "source": [
        "num_shards = 3\n",
        "merged_data1['hash_shard'] = merged_data1['category_id'].apply(lambda x: hash(x) % num_shards)\n",
        "shard1_hash = merged_data1[merged_data1['hash_shard'] == 0]\n",
        "shard2_hash = merged_data1[merged_data1['hash_shard'] == 1]\n",
        "shard3_hash = merged_data1[merged_data1['hash_shard'] == 2]"
      ],
      "metadata": {
        "id": "vnegamWcxAMP"
      },
      "execution_count": null,
      "outputs": []
    },
    {
      "cell_type": "code",
      "source": [
        "print(\"\\nHash Sharding Example - Shard 1:\")\n",
        "print(shard1_hash.head())\n",
        "\n",
        "print(\"\\nHash Sharding Example - Shard 2:\")\n",
        "print(shard2_hash.head())\n",
        "\n",
        "print(\"\\nHash Sharding Example - Shard 3:\")\n",
        "print(shard3_hash.head())"
      ],
      "metadata": {
        "colab": {
          "base_uri": "https://localhost:8080/"
        },
        "id": "_Z0m0gwbxCRP",
        "outputId": "e221a31c-2e14-45c8-b16d-258e89ba74f0"
      },
      "execution_count": null,
      "outputs": [
        {
          "output_type": "stream",
          "name": "stdout",
          "text": [
            "\n",
            "Hash Sharding Example - Shard 1:\n",
            "   book_name  author_id  category_id  book_no  book_price author_name  \\\n",
            "8      Book3       1002        10002   100003        2000     Author2   \n",
            "9     Book23       1012        10002   100023        1299    Author12   \n",
            "10    Book29       1015        10002   100029        2150    Author15   \n",
            "11    Book30       1015        10002   100030        1299    Author15   \n",
            "32    Book11       1006        10008   100011        1399     Author6   \n",
            "\n",
            "        mobile    address category_name  hash_shard  \n",
            "8   7217761177   Tanjavur     Chemistry           0  \n",
            "9   7042521984  Tirupathi     Chemistry           0  \n",
            "10  7042551984      Sikar     Chemistry           0  \n",
            "11  7042551984      Sikar     Chemistry           0  \n",
            "32  7217761577  Tirupathi        Novels           0  \n",
            "\n",
            "Hash Sharding Example - Shard 2:\n",
            "   book_name  author_id  category_id  book_no  book_price author_name  \\\n",
            "4      Book2       1001        10006   100002        1250     Author1   \n",
            "5     Book18       1009        10006   100018        1850     Author9   \n",
            "6     Book22       1011        10006   100022        1950    Author11   \n",
            "7     Book38       1019        10006   100038        1399    Author19   \n",
            "16     Book5       1003        10003   100005        2299     Author3   \n",
            "\n",
            "        mobile   address category_name  hash_shard  \n",
            "4   7217761077     Noida    Mechanical           1  \n",
            "5   7217761877     Sikar    Mechanical           1  \n",
            "6   7042511984  Srinagar    Mechanical           1  \n",
            "7   7042591984     Noida    Mechanical           1  \n",
            "16  7217761277     Sikar   Mathematics           1  \n",
            "\n",
            "Hash Sharding Example - Shard 3:\n",
            "   book_name  author_id  category_id  book_no  book_price author_name  \\\n",
            "0      Book1       1001        10001   100001        1599     Author1   \n",
            "1     Book15       1008        10001   100015        2150     Author8   \n",
            "2     Book21       1011        10001   100021        1325    Author11   \n",
            "3     Book36       1018        10001   100036         975    Author18   \n",
            "12     Book4       1002        10007   100004        1875     Author2   \n",
            "\n",
            "        mobile    address category_name  hash_shard  \n",
            "0   7217761077      Noida       Physics           2  \n",
            "1   7217761777   Tanjavur       Physics           2  \n",
            "2   7042511984   Srinagar       Physics           2  \n",
            "3   7042581984  Tirupathi       Physics           2  \n",
            "12  7217761177   Tanjavur           Bio           2  \n"
          ]
        }
      ]
    }
  ]
}